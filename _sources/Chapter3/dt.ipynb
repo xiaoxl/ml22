{
 "cells": [
  {
   "cell_type": "markdown",
   "metadata": {},
   "source": [
    "# Decision Tree Project 1: the `iris` dataset\n",
    "\n",
    "We are going to use the Decision Tree model to study the `iris` dataset. This dataset has already studied previously using k-NN. Again we will only use the first two features for visualization purpose.\n",
    "\n",
    "Since the dataset will be splitted, we will put `X` and `y` together as a single variable `S`. In this case when we split the dataset by selecting rows, the features and the labels are still paired correctly. "
   ]
  },
  {
   "cell_type": "code",
   "execution_count": 5,
   "metadata": {},
   "outputs": [],
   "source": [
    "from sklearn.datasets import load_iris\n",
    "import numpy as np\n",
    "from assests.codes.dt import gini, split\n",
    "\n",
    "iris = load_iris()\n",
    "X = iris.data[:, 2:]\n",
    "y = iris.target\n",
    "y = y.reshape((y.shape[0],1))\n",
    "S = np.concatenate([X,y], axis=1)"
   ]
  },
  {
   "cell_type": "markdown",
   "metadata": {},
   "source": [
    "Then we apply `split` to the dataset `S`. "
   ]
  },
  {
   "cell_type": "code",
   "execution_count": 6,
   "metadata": {},
   "outputs": [
    {
     "name": "stdout",
     "output_type": "stream",
     "text": [
      "(0, 1.9)\n",
      "0.0\n",
      "0.5\n"
     ]
    }
   ],
   "source": [
    "r = split(S)\n",
    "if r['split'] is True:\n",
    "    Gl, Gr = r['sets']\n",
    "    print(r['pair'])\n",
    "    print(gini(Gl))\n",
    "    print(gini(Gr))"
   ]
  },
  {
   "cell_type": "markdown",
   "metadata": {},
   "source": [
    "The results shows that `S` is splitted into two subsets based on the `0`-th feature and the split value is `1.9`. \n",
    "\n",
    "The left subset is already pure since its Gini impurity is `0`. The right one is mixed since its Gini impurity is `0.5`. Therefore we need to apply `split` again to the right subset."
   ]
  },
  {
   "cell_type": "code",
   "execution_count": 7,
   "metadata": {},
   "outputs": [
    {
     "name": "stdout",
     "output_type": "stream",
     "text": [
      "(1, 1.7)\n",
      "0.1680384087791495\n",
      "0.04253308128544431\n"
     ]
    }
   ],
   "source": [
    "r = split(Gr)\n",
    "if r['split'] is True:\n",
    "    Grl, Grr = r['sets']\n",
    "    print(r['pair'])\n",
    "    print(gini(Grl))\n",
    "    print(gini(Grr))"
   ]
  },
  {
   "cell_type": "markdown",
   "metadata": {},
   "source": [
    "This time the subset is splitted into two more subsets based on the `1`-st feature and the split value is `1.7`.\n",
    "\n",
    "The total Gini impurity is minimized using this split. \n",
    "\n",
    "The decision we created so far can be described as follows:\n",
    "\n",
    "```{exercise}\n",
    "dhahsd\n",
    "```\n",
    "\n"
   ]
  },
  {
   "cell_type": "code",
   "execution_count": 1,
   "metadata": {},
   "outputs": [],
   "source": [
    "import scipy"
   ]
  },
  {
   "cell_type": "code",
   "execution_count": 2,
   "metadata": {},
   "outputs": [
    {
     "data": {
      "text/plain": [
       "'1.8.1'"
      ]
     },
     "execution_count": 2,
     "metadata": {},
     "output_type": "execute_result"
    }
   ],
   "source": [
    "scipy.__version__"
   ]
  },
  {
   "cell_type": "code",
   "execution_count": null,
   "metadata": {},
   "outputs": [],
   "source": []
  }
 ],
 "metadata": {
  "kernelspec": {
   "display_name": "Python 3.10.4 ('ml22')",
   "language": "python",
   "name": "python3"
  },
  "language_info": {
   "codemirror_mode": {
    "name": "ipython",
    "version": 3
   },
   "file_extension": ".py",
   "mimetype": "text/x-python",
   "name": "python",
   "nbconvert_exporter": "python",
   "pygments_lexer": "ipython3",
   "version": "3.9.12"
  },
  "orig_nbformat": 4,
  "vscode": {
   "interpreter": {
    "hash": "4eae2d79809986d0872e4e364459f0c9575ffff27a18380d5ee1c7bc910cc873"
   }
  }
 },
 "nbformat": 4,
 "nbformat_minor": 2
}
