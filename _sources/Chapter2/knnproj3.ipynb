{
 "cells": [
  {
   "cell_type": "markdown",
   "metadata": {},
   "source": [
    "# k-NN Project 3: `MNIST` Handwritten recognition\n",
    "\n",
    "We would like to let the machine recognize handwritten digits. `MNIST` is a classical dataset that contains handwritten digits information. Now we apply kNN algrotithm to it. \n",
    "\n",
    "`MNIST` is a classical dataset. It can be found from many repository. We will use `sklearn.dataset.fetch_openml` to load it from [www.openml.org](https://www.openml.org/d/554).\n",
    "\n",
    "## Dataset description\n",
    "Every digit is stored as a $28\\times28$ picture. This is supposed to be a $28\\times28$ matrix. Every entry represents a gray value of the corresponding pixel, whose value is from 0 to 255. The label of each matrix is the digit it represents. \n",
    "\n",
    "In this dataset the matrix is flattened to be a vector with $784=28\\times28$ entries.  \n",
    "\n",
    "We first load it using `sklearn.dataset.fetch_openml`."
   ]
  },
  {
   "cell_type": "code",
   "execution_count": 20,
   "metadata": {},
   "outputs": [],
   "source": [
    "import tensorflow.keras as keras\n",
    "(X_train, y_train), (X_test, y_test) = keras.datasets.mnist.load_data()"
   ]
  },
  {
   "cell_type": "code",
   "execution_count": 21,
   "metadata": {},
   "outputs": [],
   "source": [
    "# from sklearn.datasets import fetch_openml\n",
    "# # Load data from https://www.openml.org/d/554\n",
    "# X, y = fetch_openml(\"mnist_784\", return_X_y=True)"
   ]
  },
  {
   "cell_type": "markdown",
   "metadata": {},
   "source": [
    "Let us play with these data first. "
   ]
  },
  {
   "cell_type": "code",
   "execution_count": 22,
   "metadata": {},
   "outputs": [],
   "source": [
    "# print(type(X))\n",
    "# print(X.shape)"
   ]
  },
  {
   "cell_type": "markdown",
   "metadata": {},
   "source": [
    "From these information we can see that X contains 70000 digits, each is represented by a vector with $784$ entries. Let us load one and reshape it to be a $28\\times28$ matrix. Then we use `matplotlib.pyplot.imshow` to display the image."
   ]
  },
  {
   "cell_type": "code",
   "execution_count": 23,
   "metadata": {},
   "outputs": [
    {
     "data": {
      "text/plain": [
       "<matplotlib.image.AxesImage at 0x17a5c7222b0>"
      ]
     },
     "execution_count": 23,
     "metadata": {},
     "output_type": "execute_result"
    },
    {
     "data": {
      "image/png": "[encoded data removed]",
      "text/plain": [
       "<Figure size 432x288 with 1 Axes>"
      ]
     },
     "metadata": {
      "needs_background": "light"
     },
     "output_type": "display_data"
    }
   ],
   "source": [
    "digit = X_train[0]\n",
    "\n",
    "import matplotlib.pyplot as plt\n",
    "plt.imshow(digit, cmap='gray')"
   ]
  },
  {
   "cell_type": "markdown",
   "metadata": {},
   "source": [
    "This image seems to be a `5`. We could double check our guess by looking at the label."
   ]
  },
  {
   "cell_type": "code",
   "execution_count": 24,
   "metadata": {},
   "outputs": [
    {
     "data": {
      "text/plain": [
       "5"
      ]
     },
     "execution_count": 24,
     "metadata": {},
     "output_type": "execute_result"
    }
   ],
   "source": [
    "y_train[0]"
   ]
  },
  {
   "cell_type": "markdown",
   "metadata": {},
   "source": [
    "It is really a `'5'`. Note that the above output is a `str`. For the purpose of calculating accuracy easily it is better to change it to be `int`.  We will also split the dataset into training set and test set and normlize them at the moment."
   ]
  },
  {
   "cell_type": "code",
   "execution_count": 25,
   "metadata": {},
   "outputs": [],
   "source": [
    "from sklearn.model_selection import train_test_split\n",
    "from assests.codes.knn import encodeNorm\n",
    "\n",
    "# Convert y to be an array of int.\n",
    "# y = y.astype(int)\n",
    "\n",
    "# X_train, X_test, y_train, y_test = train_test_split(X, y, test_size=0.1)\n",
    "X_train = X_train.reshape((X_train.shape[0], X_train.shape[1]*X_train.shape[2]))\n",
    "X_test = X_test.reshape((X_test.shape[0], X_test.shape[1]*X_test.shape[2]))\n",
    "\n",
    "X_train_norm, parameters = encodeNorm(X_train)\n",
    "X_test_norm, _ = encodeNorm(X_test, parameters=parameters)"
   ]
  },
  {
   "cell_type": "markdown",
   "metadata": {},
   "source": [
    "\n",
    "## Apply k-NN\n",
    "Like the previous two examples, we now try to apply the k-NN algorithm to classify these handwritten digits. This time our codes and `sklearn` are more different. The main issue is that our codes don't have any optimizations and the runtime is super slow. `MNIST` is a bigger dataset comparing to the previous two, so it takes a long time to run our codes.\n",
    "\n",
    "Although we won't improve our codes to make it faster at the current stage, we will modify it a little bit to make the wait feels better.\n",
    "\n",
    "`tqdm` is package to show progress bar. Every time if you want to use a `for` loop to go through something `X`, you may wrap `tqdm` around `X` and this can show the progress of the loop and how much estimated time left. \n",
    "\n",
    "To make the sample faster, we will only run the code over the first 20 examples. \n"
   ]
  },
  {
   "cell_type": "code",
   "execution_count": 28,
   "metadata": {},
   "outputs": [
    {
     "name": "stderr",
     "output_type": "stream",
     "text": [
      "100%|██████████| 20/20 [00:06<00:00,  3.16it/s]"
     ]
    },
    {
     "name": "stdout",
     "output_type": "stream",
     "text": [
      "1.0\n"
     ]
    },
    {
     "name": "stderr",
     "output_type": "stream",
     "text": [
      "\n"
     ]
    }
   ],
   "source": [
    "from assests.codes.knn import classify_kNN\n",
    "# import tqdm.\n",
    "from tqdm import tqdm\n",
    "import numpy as np\n",
    "\n",
    "n_neighbors = 10\n",
    "N_sample = 20\n",
    "X_test_sample = X_test_norm[0:N_sample]\n",
    "y_test_sample = y_test[0:N_sample]\n",
    "y_pred = np.array([classify_kNN(row, X_train_norm, y_train, k=n_neighbors)\n",
    "                   for row in tqdm(X_test_sample)])\n",
    "\n",
    "cor = [data for data in y_test_sample-y_pred if data==0]\n",
    "acc = len(cor) / len(y_test_sample)\n",
    "print(acc)"
   ]
  },
  {
   "cell_type": "markdown",
   "metadata": {},
   "source": [
    "For these 20 samples, our predict accuracy is $100\\%$. \n",
    "\n",
    "Now let us try to apply `sklearn` package."
   ]
  },
  {
   "cell_type": "code",
   "execution_count": 27,
   "metadata": {},
   "outputs": [
    {
     "name": "stdout",
     "output_type": "stream",
     "text": [
      "0.9664\n"
     ]
    }
   ],
   "source": [
    "from sklearn.neighbors import KNeighborsClassifier\n",
    "clf = KNeighborsClassifier(n_neighbors=10, weights='uniform',\n",
    "                           metric='euclidean', algorithm='brute')\n",
    "clf.fit(X_train_norm, y_train)\n",
    "y_pred_sk = clf.predict(X_test_norm)\n",
    "\n",
    "cor = [data for data in y_test-y_pred_sk if data==0]\n",
    "acc = len(cor) / len(y_test)\n",
    "print(acc)"
   ]
  },
  {
   "cell_type": "markdown",
   "metadata": {},
   "source": [
    "Note that this time we run the code over the whole test set. `KNeighborsClassifier` runs even faster than our codes over only 20 samples. "
   ]
  }
 ],
 "metadata": {
  "kernelspec": {
   "display_name": "Python 3.9.12 ('ml22-39')",
   "language": "python",
   "name": "python3"
  },
  "language_info": {
   "codemirror_mode": {
    "name": "ipython",
    "version": 3
   },
   "file_extension": ".py",
   "mimetype": "text/x-python",
   "name": "python",
   "nbconvert_exporter": "python",
   "pygments_lexer": "ipython3",
   "version": "3.9.12"
  },
  "orig_nbformat": 4,
  "vscode": {
   "interpreter": {
    "hash": "f942919da62b6f59116f895f04f67e8e8543c48448e68bc002b3506ba256a7e1"
   }
  }
 },
 "nbformat": 4,
 "nbformat_minor": 2
}
